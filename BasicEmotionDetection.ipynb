{
  "nbformat": 4,
  "nbformat_minor": 0,
  "metadata": {
    "colab": {
      "name": "BasicEmotionDetection.ipynb",
      "provenance": [],
      "collapsed_sections": [],
      "authorship_tag": "ABX9TyN5C7wvmFvoJ+/Mkmui6Lqa",
      "include_colab_link": true
    },
    "kernelspec": {
      "name": "python3",
      "display_name": "Python 3"
    }
  },
  "cells": [
    {
      "cell_type": "markdown",
      "metadata": {
        "id": "view-in-github",
        "colab_type": "text"
      },
      "source": [
        "<a href=\"https://colab.research.google.com/github/RajathSIyer/TensorFlowProjs/blob/main/BasicEmotionDetection.ipynb\" target=\"_parent\"><img src=\"https://colab.research.google.com/assets/colab-badge.svg\" alt=\"Open In Colab\"/></a>"
      ]
    },
    {
      "cell_type": "code",
      "metadata": {
        "colab": {
          "base_uri": "https://localhost:8080/"
        },
        "id": "RwRL_aDIN3TM",
        "outputId": "b357eb3d-4b20-4880-ce57-4d46af711c7e"
      },
      "source": [
        "import tensorflow as tf\n",
        "import os\n",
        "import zipfile\n",
        "from os import path, getcwd, chdir\n",
        "\n",
        "\n",
        "!wget --no-check-certificate \\\n",
        "    \"https://storage.googleapis.com/laurencemoroney-blog.appspot.com/happy-or-sad.zip\" \\\n",
        "    -O \"/tmp/happy-or-sad.zip\"\n",
        "\n",
        "zip_ref = zipfile.ZipFile(\"/tmp/happy-or-sad.zip\", 'r')\n",
        "zip_ref.extractall(\"/tmp/h-or-s\")\n",
        "zip_ref.close()\n",
        "\n",
        "def train_happy_sad_model():\n",
        "\n",
        "    DESIRED_ACCURACY = 0.999\n",
        "\n",
        "    class myCallback(tf.keras.callbacks.Callback):\n",
        "        def on_epoch_end(self, epoch, logs={}):\n",
        "            if(logs.get('accuracy') >0.999):\n",
        "              print(\"\\nReached 99% accuracy so cancelling training!\")\n",
        "              self.model.stop_training = True\n",
        "\n",
        "    callbacks = myCallback()\n",
        "    \n",
        "    # This Code Block should Define and Compile the Model. Using a 150x150 images\n",
        "    model = tf.keras.models.Sequential([tf.keras.layers.Conv2D(16, (3,3), activation='relu', input_shape=(150, 150, 3)),\n",
        "    tf.keras.layers.MaxPooling2D(2, 2),\n",
        "    tf.keras.layers.Conv2D(32, (3,3), activation='relu'),\n",
        "    tf.keras.layers.MaxPooling2D(2,2),    \n",
        "    tf.keras.layers.Conv2D(64, (3,3), activation='relu'),\n",
        "    tf.keras.layers.MaxPooling2D(2,2),\n",
        "    tf.keras.layers.Flatten(),\n",
        "    tf.keras.layers.Dense(512, activation='relu'),\n",
        "    tf.keras.layers.Dense(1, activation='sigmoid')\n",
        "    ])\n",
        "\n",
        "    from tensorflow.keras.optimizers import RMSprop\n",
        "\n",
        "    model.compile(loss='binary_crossentropy',\n",
        "              optimizer=RMSprop(lr=0.001),\n",
        "              metrics=['accuracy'])\n",
        "\n",
        "    from tensorflow.keras.preprocessing.image import ImageDataGenerator\n",
        "\n",
        "    train_datagen = ImageDataGenerator(rescale=1/255)\n",
        "    train_generator = train_datagen.flow_from_directory('/tmp/h-or-s/',target_size=(150, 150), batch_size=1,class_mode='binary')\n",
        "    # model fitting\n",
        "    history = model.fit(train_generator,steps_per_epoch=8,epochs=15,verbose=1,callbacks=[callbacks])\n",
        "    return history.history['accuracy'][-1]\n",
        "train_happy_sad_model()"
      ],
      "execution_count": 4,
      "outputs": [
        {
          "output_type": "stream",
          "text": [
            "--2020-12-05 23:37:20--  https://storage.googleapis.com/laurencemoroney-blog.appspot.com/happy-or-sad.zip\n",
            "Resolving storage.googleapis.com (storage.googleapis.com)... 108.177.12.128, 108.177.13.128, 172.217.193.128, ...\n",
            "Connecting to storage.googleapis.com (storage.googleapis.com)|108.177.12.128|:443... connected.\n",
            "HTTP request sent, awaiting response... 200 OK\n",
            "Length: 2670333 (2.5M) [application/zip]\n",
            "Saving to: ‘/tmp/happy-or-sad.zip’\n",
            "\n",
            "\r/tmp/happy-or-sad.z   0%[                    ]       0  --.-KB/s               \r/tmp/happy-or-sad.z 100%[===================>]   2.55M  --.-KB/s    in 0.02s   \n",
            "\n",
            "2020-12-05 23:37:20 (147 MB/s) - ‘/tmp/happy-or-sad.zip’ saved [2670333/2670333]\n",
            "\n",
            "Found 80 images belonging to 2 classes.\n",
            "Epoch 1/15\n",
            "8/8 [==============================] - 1s 81ms/step - loss: 4.7139 - accuracy: 0.1250\n",
            "Epoch 2/15\n",
            "8/8 [==============================] - 1s 81ms/step - loss: 0.6954 - accuracy: 0.6250\n",
            "Epoch 3/15\n",
            "8/8 [==============================] - 1s 80ms/step - loss: 0.9129 - accuracy: 0.5000\n",
            "Epoch 4/15\n",
            "8/8 [==============================] - 1s 81ms/step - loss: 0.6862 - accuracy: 0.6250\n",
            "Epoch 5/15\n",
            "8/8 [==============================] - 1s 80ms/step - loss: 0.6359 - accuracy: 0.6250\n",
            "Epoch 6/15\n",
            "8/8 [==============================] - 1s 82ms/step - loss: 1.0046 - accuracy: 0.6250\n",
            "Epoch 7/15\n",
            "8/8 [==============================] - 1s 80ms/step - loss: 0.5826 - accuracy: 0.7500\n",
            "Epoch 8/15\n",
            "8/8 [==============================] - 1s 80ms/step - loss: 0.4754 - accuracy: 0.7500\n",
            "Epoch 9/15\n",
            "8/8 [==============================] - 1s 82ms/step - loss: 0.6428 - accuracy: 0.7500\n",
            "Epoch 10/15\n",
            "8/8 [==============================] - 1s 81ms/step - loss: 0.3543 - accuracy: 0.8750\n",
            "Epoch 11/15\n",
            "8/8 [==============================] - 1s 82ms/step - loss: 0.2481 - accuracy: 0.8750\n",
            "Epoch 12/15\n",
            "8/8 [==============================] - 1s 80ms/step - loss: 0.1468 - accuracy: 0.8750\n",
            "Epoch 13/15\n",
            "8/8 [==============================] - ETA: 0s - loss: 0.0227 - accuracy: 1.0000\n",
            "Reached 99% accuracy so cancelling training!\n",
            "8/8 [==============================] - 1s 83ms/step - loss: 0.0227 - accuracy: 1.0000\n"
          ],
          "name": "stdout"
        },
        {
          "output_type": "execute_result",
          "data": {
            "text/plain": [
              "1.0"
            ]
          },
          "metadata": {
            "tags": []
          },
          "execution_count": 4
        }
      ]
    }
  ]
}